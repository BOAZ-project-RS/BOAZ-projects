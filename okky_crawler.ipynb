{
 "cells": [
  {
   "cell_type": "code",
   "execution_count": 2,
   "metadata": {},
   "outputs": [],
   "source": [
    "import requests\n",
    "from bs4 import BeautifulSoup\n",
    "import chardet"
   ]
  },
  {
   "cell_type": "code",
   "execution_count": 3,
   "metadata": {},
   "outputs": [],
   "source": [
    "seed=\"https://okky.kr\"\n",
    "params = {\n",
    "    \"max\":\"100\",\n",
    "    \"sort\":\"id\",\n",
    "    \"order\":\"desc\"\n",
    "}\n",
    "headers = {\n",
    "    \"User-agent\":\"Mozilla/5.0 (Windows NT 10.0; Win64; x64) AppleWebKit/537.36 (KHTML, like Gecko) Chrome/67.0.3396.99 Safari/537.36\",\n",
    "    \"Accept-Encoding\":None #인코딩 문제 해결 위해\n",
    "}\n",
    "\n",
    "resp = requests.get(seed+\"/articles/tech-qna\",params=params, headers=headers)"
   ]
  },
  {
   "cell_type": "code",
   "execution_count": 4,
   "metadata": {},
   "outputs": [
    {
     "data": {
      "text/plain": [
       "{'confidence': 0.99, 'encoding': 'utf-8', 'language': ''}"
      ]
     },
     "execution_count": 4,
     "metadata": {},
     "output_type": "execute_result"
    }
   ],
   "source": [
    "chardet.detect(resp.content)"
   ]
  },
  {
   "cell_type": "code",
   "execution_count": 5,
   "metadata": {},
   "outputs": [],
   "source": [
    "soup = BeautifulSoup(resp.content,'lxml')"
   ]
  },
  {
   "cell_type": "code",
   "execution_count": 6,
   "metadata": {},
   "outputs": [
    {
     "data": {
      "text/plain": [
       "[<a href=\"/article/423650\">\n",
       "                 \n",
       "                 OKKY Q&amp;A 운영 안내 - 질문 전 꼭 읽어보세요!\n",
       "             </a>, <a href=\"/article/508617\">\n",
       "                 \n",
       "                 자바스크립트 문제 .... 이해가안되네요\n",
       "             </a>, <a href=\"/article/508616\">\n",
       "                 \n",
       "                 heidisql 에서의 데이터 갯수 표시\n",
       "             </a>, <a href=\"/article/508615\">\n",
       "                 \n",
       "                 스트러츠2 기반 프로젝트 윈도우서버에 세팅할수있는 선배님 계신가요?\n",
       "             </a>, <a href=\"/article/508596\">\n",
       "                 \n",
       "                 'rest api를 사용 = api제작' 이런 맥락인가요?\n",
       "             </a>]"
      ]
     },
     "execution_count": 6,
     "metadata": {},
     "output_type": "execute_result"
    }
   ],
   "source": [
    "h5 = soup.select('h5 > a')\n",
    "h5[:5]"
   ]
  },
  {
   "cell_type": "code",
   "execution_count": 7,
   "metadata": {},
   "outputs": [
    {
     "data": {
      "text/plain": [
       "['/article/423650',\n",
       " '/article/508617',\n",
       " '/article/508616',\n",
       " '/article/508615',\n",
       " '/article/508596',\n",
       " '/article/508595',\n",
       " '/article/508593',\n",
       " '/article/508592',\n",
       " '/article/508582',\n",
       " '/article/508581']"
      ]
     },
     "execution_count": 7,
     "metadata": {},
     "output_type": "execute_result"
    }
   ],
   "source": [
    "links = [el['href'] for el in h5]\n",
    "links[:10]"
   ]
  },
  {
   "cell_type": "code",
   "execution_count": 73,
   "metadata": {},
   "outputs": [],
   "source": [
    "users = {} # {user_id:(activity,)}\n",
    "ques = {} # {que_id:(time_stamp, (tags), views, vote_count, )}\n",
    "ans = {}\n",
    "for link in links[6:10]:\n",
    "    url = seed + link\n",
    "    resp = requests.get(url,params=params, headers=headers)\n",
    "    soup = BeautifulSoup(resp.content,'lxml')\n",
    "    \n",
    "    user = []\n",
    "    user.append(soup.find(\"a\",{\"class\":\"nickname\"}).text)\n",
    "    user.append(soup.find(\"div\",{\"class\":\"activity\"}).text)\n",
    "    users[user[0]] = tuple(user[1:])\n",
    "    \n",
    "    que = []\n",
    "    que.append(soup.find(\"span\",{\"class\":\"list-group-item-text article-id\"}).text)\n",
    "    que.append(soup.find(\"span\",{\"class\":\"timeago\"}).text)\n",
    "    que.append(tuple([tag.text for tag in soup.find_all(\"a\",{\"class\":\"list-group-item-text item-tag label label-gray\"})]))\n",
    "    que.append(soup.find(\"div\",{\"class\":\"content-identity-count\"}).text)\n",
    "    que.append(soup.find(\"div\",{\"class\":\"content-eval-count\"}).text)\n",
    "    que.append(soup.find(\"h2\",{\"class\":\"panel-title\"}).text.strip())\n",
    "    que.append(tuple([p.text.strip() for p in soup.select(\"#content-body > article > p\")]))\n",
    "    que.append(tuple([pre.text.strip() for pre in soup.select(\"#content-body > article > pre\")]))\n",
    "#     print(que)\n",
    "    ques[que[0]] = tuple(que[1:])\n",
    "    \n",
    "#     an = {}\n",
    "    tmp = soup.find(\"ul\",{\"class\":\"list-group\"}).find_all(\"li\",{\"class\",\"list-group-item note-item clearfix\"})\n",
    "    for an in tmp:\n",
    "        an.find(\"a\",{\"class\":\"nickname\"}).text\n",
    "#     an.append(soup.find())\n",
    "    \n",
    "#     ans[que[0]] = an\n",
    "    "
   ]
  },
  {
   "cell_type": "code",
   "execution_count": 83,
   "metadata": {},
   "outputs": [
    {
     "data": {
      "text/plain": [
       "'협군'"
      ]
     },
     "execution_count": 83,
     "metadata": {},
     "output_type": "execute_result"
    }
   ],
   "source": [
    "tmp[0].find(\"a\",{\"class\":\"nickname\"}).text"
   ]
  },
  {
   "cell_type": "code",
   "execution_count": 76,
   "metadata": {},
   "outputs": [
    {
     "data": {
      "text/plain": [
       "['협군  4k2018-10-07 01:01:07  \\n\\n\\n정처기말고는 필요한 자격증이 없는데요.차라리 외국어 능력을 갖추세요.\\n\\n\\n\\n\\n\\n2',\n",
       " '에스에이치  2942018-10-07 01:29:47  \\n\\n\\n수동보통1종뿐입니다만\\n\\n\\n\\n\\n\\n0',\n",
       " 'code-01  3552018-10-07 11:45:19  \\n\\n\\n                                            \\n                                                필수 아닙니다.\\xa0\\n                                            \\n                                        \\n\\n\\n\\n\\n0']"
      ]
     },
     "execution_count": 76,
     "metadata": {},
     "output_type": "execute_result"
    }
   ],
   "source": [
    "[el.text.strip() for el in tmp]"
   ]
  },
  {
   "cell_type": "code",
   "execution_count": 61,
   "metadata": {},
   "outputs": [
    {
     "name": "stdout",
     "output_type": "stream",
     "text": [
      "{'sac89': (' 194',), 'dAhun_': (' 63',), 'Oimb': (' 263',), 'dokdo_---': (' 70',)}\n",
      "{'#508593': ('2018-10-07 03:30:54', (), ' 3', '0', '[재질문]spring http통신 관련 질문입니다.', ('안녕하세요.', '한 가지 궁금한 점이 있어서 질문드립니다.', '', '로컬환경에서 (http://127.0.0.1:8080\\xa0) 로 http 통신을 시도 할 경우', '응답값을 잘 받아옵니다.', '응답을 보내주는 곳은 (http://127.0.0.1:8080/test/test\\xa0)', 'responseBody 로 요청을 한 url로 json 형태로 다시 날려주는 형태입니다.', '', '근데 외부망으로 (흔히들 개발기 쪽 서버라고 하는 곳) 에 설정 관련된 파일을 동일하게 올려놓고 테스트를 진행하면 404 가 뜹니다.', '', '아예 해당 url을 찾지 못하는 현상이 발생을 해버립니다.', '(서버쪽 로그 확인결과 응답하는 /test/test만 못찾습니다. 다른 맵핑된 url은 200 코드로 잘 떨어집니다.)', '', '로컬에서는 정상동작을 하고 로컬이든 개발기든 같은 환경인데... 같은 이유를 겪으신 분이 있다면 조언 부탁드립니다...', '', '(방화벽 등이 문제면 404 error가 아닌 다른 문제가 떳을텐데 아예 찾지를 못하니 원인 파악이 잘안됩니다.ㅠㅠ)', '', '간략한 소스입니다..', '', '요청하는 쪽 소스.', 'strUrl =\\xa0http://127.0.0.1:8080/test/test\\xa0; <- 로컬에서 동작.', 'strUrl = http://개발기url/test/test; <- 404 error (개발기)', 'ResponseEntity<String> responseEntity =', 'restTemplate.exchange(strUrl, HttpMethod.POST, entity, String.class);', 'result = responseEntity.getBody();', '', '응답해주는 쪽', '@RequestMapping(value=\"/test/test\", method = RequestMethod.POST, consumes=\"application/json;charset=UTF-8\")', 'public ResponseEntity<JSONObject> test(HttpServletRequest req', ', HttpServletResponse res', ', @RequestBody JSONObject body) throws Exception {', '}', '', '이런 형태입니다. 조언부탁드립니다..'), ()), '#508592': ('2018-10-07 02:26:08', ('python',), ' 2', '0', '[Python] import 와 __init__에서 잘 안풀리는 부분이 있어 질문 남깁니다.', ('main.py', 'knn.py', '위 코드를 실행 시키면', \"TypeError : __init__() got an unexpected keyword argument 'k' 라는 오류가 발생합니다\", '여러가지 방법을 시도해봤는데 제가 아직 지식이 짧아서 그런지 해결에 어려움이 있습니다.', '', '고수분들 도와주세요 ㅠㅠ'), (\"from knn import knn2\\r\\n\\r\\nclf = knn2(k = 5, metric = 'eculidean')\", 'class knn2:\\r\\n\\r\\n\\tdef __init__(self, k, metric):\\r\\n\\t\\tself.k = k\\r\\n\\t\\tself.metric = metric')), '#508582': ('2018-10-07 00:23:49', ('mysql', 'datetime', 'Date'), ' 2', '0', '(재질문) mysql datetime을 jsp 에서 java.util.Date 으로 받아서 출력하는 상황', ('mysql 의 한 구문 입니다.', 'regDate DATETIME NOT NULL\\xa0 // 이런식 으로 되어 있고 now()로 인해 현재 날짜가 들어가게 되있습니다.\\xa0 \\xa0- 2018-10-05 12:35:54', '이를', 'Resultset.getdate() 를 이용하여 받아옵니다.', 'boardVO.setRegDate( rs.getDate(\"regDate\") ); //\\xa0 \\xa0Resultset rs', '', '그리고 boardvo의 setRegDate는', 'public void setRegDate(java.util.Date regDate) {', 'this.regDate = regDate;', '}', '형태 입니다', '솔직히 안될줄 알고 한건데', '너무나 잘읽어 옵니다..', 'EL 변수로 ${test.regDate} 하면\\xa0 jsp 페이지에 찍어보면 2018-10-05 로 찍힙니다.', 'mysql datetime을 읽어 오면 Date 형식 또는 String 으로 변환된다는 것 알고 있습니다.', '그렇다면 Date형\\xa0 으로 읽어 올테고\\xa0 이를 출력시키면 toString 형태로 즉 포맷팅 되지 않은 상태로 출려되야 하지 않나요?', '예를 들자면'), ('import java.text.ParseException;\\r\\nimport java.text.SimpleDateFormat;\\r\\nimport java.util.Date;\\r\\n\\r\\npublic class test {\\r\\n\\tpublic static void main(String[] args) throws ParseException {\\r\\n\\t\\t\\r\\n\\t\\tDate date = new Date();\\r\\n\\t\\tString str = \"2018-10-05\";\\r\\n\\t\\tSimpleDateFormat fo = new SimpleDateFormat(\"yyyy-mm-dd\");\\r\\n\\t\\tdate = (Date)fo.parse(str);\\r\\n\\t\\t\\t\\t\\t\\r\\n\\t\\tSystem.out.println(date.toString());  // 이런식으로\\r\\n\\t\\t\\r\\n\\t\\tString str2 = fo.format(date);\\t\\t\\r\\n\\t\\tSystem.out.println(str2);  // 하지만 출력은 이런 형태\\r\\n\\t\\t\\r\\n\\t\\t\\r\\n\\t}\\r\\n}', '제 추측은 mysql datetime 을 DB로부터 읽어 올때 이를 알아서 포매팃 해서 읽어오고 이를 출력시킬 때도 포맷팅 되어지는 가?', '입니다...')), '#508581': ('2018-10-07 00:16:03', (), ' 3', '0', '프로그래머는 자격증이 필수인가요??', ('안드로이드 개발자 생각하고 있고 자격증은 필수인가요??', '앱 여러개 만들어보는게 제 스펙에 더 도움될거 같은데..'), ())}\n"
     ]
    }
   ],
   "source": [
    "print(users)\n",
    "print(ques)"
   ]
  },
  {
   "cell_type": "code",
   "execution_count": 78,
   "metadata": {},
   "outputs": [
    {
     "data": {
      "text/plain": [
       "('2018-10-07 00:16:03',\n",
       " (),\n",
       " ' 3',\n",
       " '0',\n",
       " '프로그래머는 자격증이 필수인가요??',\n",
       " ('안드로이드 개발자 생각하고 있고 자격증은 필수인가요??', '앱 여러개 만들어보는게 제 스펙에 더 도움될거 같은데..'),\n",
       " ())"
      ]
     },
     "execution_count": 78,
     "metadata": {},
     "output_type": "execute_result"
    }
   ],
   "source": [
    "ques['#508581']"
   ]
  },
  {
   "cell_type": "code",
   "execution_count": null,
   "metadata": {},
   "outputs": [],
   "source": []
  },
  {
   "cell_type": "code",
   "execution_count": null,
   "metadata": {},
   "outputs": [],
   "source": []
  }
 ],
 "metadata": {
  "kernelspec": {
   "display_name": "Python 3",
   "language": "python",
   "name": "python3"
  },
  "language_info": {
   "codemirror_mode": {
    "name": "ipython",
    "version": 3
   },
   "file_extension": ".py",
   "mimetype": "text/x-python",
   "name": "python",
   "nbconvert_exporter": "python",
   "pygments_lexer": "ipython3",
   "version": "3.6.4"
  }
 },
 "nbformat": 4,
 "nbformat_minor": 2
}
