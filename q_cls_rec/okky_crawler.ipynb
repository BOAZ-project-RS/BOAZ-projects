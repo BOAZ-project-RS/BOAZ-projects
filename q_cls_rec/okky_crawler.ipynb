{
 "cells": [
  {
   "cell_type": "code",
   "execution_count": 2,
   "metadata": {},
   "outputs": [],
   "source": [
    "import requests\n",
    "from bs4 import BeautifulSoup\n",
    "import chardet\n",
    "import pickle\n",
    "from tqdm import tqdm\n",
    "import numpy as np\n",
    "import time"
   ]
  },
  {
   "cell_type": "markdown",
   "metadata": {},
   "source": [
    "[국내 개발자 커뮤니티 리스트](https://zetawiki.com/wiki/%EA%B5%AD%EB%82%B4_%EA%B0%9C%EB%B0%9C%EC%9E%90_%EC%BB%A4%EB%AE%A4%EB%8B%88%ED%8B%B0)\n",
    "\n",
    "우선 대표적인 자바 개발 커뮤니티 [OKKY](https://okky.kr/) 에 대한 크롤링을 진행했다\n"
   ]
  },
  {
   "cell_type": "code",
   "execution_count": 89,
   "metadata": {},
   "outputs": [],
   "source": [
    "seed=\"https://okky.kr\"\n",
    "params = {\n",
    "    \"max\":\"100\",\n",
    "    \"sort\":\"id\",\n",
    "    \"order\":\"desc\"\n",
    "}\n",
    "headers = {\n",
    "    \"User-agent\":\"Mozilla/5.0 (Windows NT 10.0; Win64; x64) AppleWebKit/537.36 (KHTML, like Gecko) Chrome/67.0.3396.99 Safari/537.36\",\n",
    "    \"Accept-Encoding\":None #인코딩 문제 해결 위해\n",
    "}\n",
    "\n",
    "resp = requests.get(seed+\"/articles/tech-qna\",params=params, headers=headers)"
   ]
  },
  {
   "cell_type": "code",
   "execution_count": 90,
   "metadata": {},
   "outputs": [
    {
     "data": {
      "text/plain": [
       "{'confidence': 0.99, 'encoding': 'utf-8', 'language': ''}"
      ]
     },
     "execution_count": 90,
     "metadata": {},
     "output_type": "execute_result"
    }
   ],
   "source": [
    "chardet.detect(resp.content)"
   ]
  },
  {
   "cell_type": "code",
   "execution_count": 91,
   "metadata": {},
   "outputs": [],
   "source": [
    "soup = BeautifulSoup(resp.content,'lxml')"
   ]
  },
  {
   "cell_type": "code",
   "execution_count": 92,
   "metadata": {},
   "outputs": [
    {
     "data": {
      "text/plain": [
       "[<a href=\"/article/423650\">\n",
       "                 \n",
       "                 OKKY Q&amp;A 운영 안내 - 질문 전 꼭 읽어보세요!\n",
       "             </a>, <a href=\"/article/508699\">\n",
       "                 \n",
       "                 리스너 호출 오류\n",
       "             </a>, <a href=\"/article/508698\">\n",
       "                 \n",
       "                 씨언어 잘 아시는분들.. 시간 나시면 코드짜기좀 봐주실수 있으신가요?\n",
       "             </a>, <a href=\"/article/508693\">\n",
       "                 \n",
       "                 jsonObject-&gt; Ajax 호출 질문입니다. 중복검사\n",
       "             </a>, <a href=\"/article/508691\">\n",
       "                 \n",
       "                 Angular와 React 궁금한것이 있습니다.\n",
       "             </a>]"
      ]
     },
     "execution_count": 92,
     "metadata": {},
     "output_type": "execute_result"
    }
   ],
   "source": [
    "h5 = soup.select('h5 > a')\n",
    "h5[:5]"
   ]
  },
  {
   "cell_type": "code",
   "execution_count": 108,
   "metadata": {},
   "outputs": [
    {
     "data": {
      "text/plain": [
       "['/article/508699',\n",
       " '/article/508698',\n",
       " '/article/508693',\n",
       " '/article/508691',\n",
       " '/article/508690',\n",
       " '/article/508688',\n",
       " '/article/508680',\n",
       " '/article/508650',\n",
       " '/article/508643']"
      ]
     },
     "execution_count": 108,
     "metadata": {},
     "output_type": "execute_result"
    }
   ],
   "source": [
    "links = [el['href'] for el in h5] # resp에서 각 게시글로의 링크를 따온다\n",
    "links[1:10]"
   ]
  },
  {
   "cell_type": "markdown",
   "metadata": {},
   "source": [
    "함수로 만들어보자"
   ]
  },
  {
   "cell_type": "code",
   "execution_count": 113,
   "metadata": {},
   "outputs": [],
   "source": [
    "def get_links(resp)->list: # 링크들을 가져와 리스트로 반환하는 함수\n",
    "    try:\n",
    "        soup = BeautifulSoup(resp.content,'lxml')\n",
    "        h5 = soup.select('h5 > a')\n",
    "        links = [el['href'] for el in h5[1:]]\n",
    "        \n",
    "    except Exception as e:\n",
    "        print(\"Exception occurs in get_links\",resp.url,e)\n",
    "    return links"
   ]
  },
  {
   "cell_type": "code",
   "execution_count": 114,
   "metadata": {},
   "outputs": [],
   "source": [
    "def get_QA(links:list): # 링크의 리스트를 받아 dict 인 ques와 ans에 데이터를 저장하는 함수\n",
    "    def get_qid(soup,que):\n",
    "        try:\n",
    "            que.append(soup.find(\"span\",{\"class\":\"list-group-item-text article-id\"}).text)\n",
    "        except Exception as e:\n",
    "            que.append(np.nan)\n",
    "    def get_uid(soup,que):\n",
    "        try:\n",
    "            tmp = soup.find(\"span\",{\"class\":\"nickname\"})\n",
    "            if tmp==None:\n",
    "                tmp = soup.find(\"a\",{\"class\":\"nickname\"})\n",
    "            que.append(tmp.text)\n",
    "        except Exception as e:\n",
    "            que.append(np.nan)        \n",
    "    def get_tstamp(soup,que):\n",
    "        try:\n",
    "            que.append(soup.find(\"span\",{\"class\":\"timeago\"}).text)\n",
    "        except Exception as e:\n",
    "            que.append(np.nan)  \n",
    "    def get_tags(soup,que):\n",
    "        try:\n",
    "            que.append(tuple([tag.text for tag in soup.find_all(\"a\",{\"class\":\"list-group-item-text item-tag label label-gray\"})]))\n",
    "        except Exception as e:\n",
    "            que.append(tuple())\n",
    "    def get_view(soup,que):\n",
    "        try:\n",
    "            que.append(soup.find(\"div\",{\"class\":\"content-identity-count\"}).text)\n",
    "        except Exception as e:\n",
    "            que.append(np.nan)\n",
    "    def get_vote(soup,que):\n",
    "        try:\n",
    "            que.append(soup.find(\"div\",{\"class\":\"content-eval-count\"}).text)\n",
    "        except Exception as e:\n",
    "            que.append(np.nan)\n",
    "    def get_title(soup,que):\n",
    "        try:\n",
    "            que.append(soup.find(\"h2\",{\"class\":\"panel-title\"}).text.strip())\n",
    "        except Exception as e:\n",
    "            que.append(np.nan)\n",
    "    def get_content(soup,que):\n",
    "        try:\n",
    "            content = tuple([p.text.strip() for p in soup.select(\"#content-body > article > p\")]) # p로 구분된 본문\n",
    "            if content == tuple():\n",
    "                content = soup.find(\"article\",{\"class\":\"content-text\"}).text.strip()\n",
    "            que.append(content)      \n",
    "        except Exception as e:\n",
    "            que.append(tuple())\n",
    "    def get_code(soup,que):\n",
    "        try:\n",
    "            que.append(tuple([pre.text.strip() for pre in soup.select(\"#content-body > article > pre\")]))\n",
    "        except Exception as e:\n",
    "            que.append(tuple())\n",
    "    def get_uid_a(li):\n",
    "        try:\n",
    "            tmp = li.find(\"a\",{\"class\":\"nickname\"})\n",
    "            if tmp ==None:\n",
    "                tmp = li.find(\"span\",{\"class\":\"nickname\"})\n",
    "            an.append(tmp.text)\n",
    "        except Exception as e:\n",
    "            an.append(np.nan)\n",
    "    def get_tstamp_a(li):\n",
    "        try:\n",
    "            an.append(li.find(\"span\",{\"class\":\"timeago\"}).text)\n",
    "        except Exception as e:\n",
    "            an.append(np.nan) \n",
    "    def get_vote_a(li):\n",
    "        try:\n",
    "            an.append(li.find(\"div\",{\"class\":\"content-eval-count\"}).text)\n",
    "        except Exception as e:\n",
    "            an.append(np.nan)\n",
    "    def get_comment(li):\n",
    "        try:\n",
    "            an.append(li.find(\"article\",{\"class\":\"list-group-item-text note-text\"}).text.strip())\n",
    "        except Exception as e:\n",
    "            an.append(np.nan)\n",
    "    \n",
    "    \n",
    "    for link in links:\n",
    "        try:\n",
    "            url = seed + link\n",
    "            resp = requests.get(url, headers=headers,timeout=3)\n",
    "            soup = BeautifulSoup(resp.content,'lxml')\n",
    "            \n",
    "            que = []\n",
    "            \n",
    "            get_qid(soup,que)\n",
    "            get_uid(soup,que)\n",
    "            get_tstamp(soup,que)\n",
    "            get_tags(soup,que)\n",
    "            get_view(soup,que)\n",
    "            get_vote(soup,que)\n",
    "            get_title(soup,que)   \n",
    "            get_content(soup,que)    \n",
    "            get_code(soup,que)   \n",
    "            \n",
    "            ques[que[0]] = tuple(que[1:])\n",
    "            ans[que[0]] = {}\n",
    "            \n",
    "            lst_group = soup.find(\"ul\",{\"class\":\"list-group\"})\n",
    "            if lst_group==None:\n",
    "                continue\n",
    "            lis = lst_group.find_all(\"li\",{\"class\",\"list-group-item note-item clearfix\"})\n",
    "            if lis == []:\n",
    "                continue\n",
    "            for i,li in enumerate(lis):\n",
    "                an = []\n",
    "\n",
    "                get_uid_a(li)\n",
    "                get_tstamp_a(li)\n",
    "                get_vote_a(li)\n",
    "                get_comment(li) \n",
    "                \n",
    "                # 게시글의 답글을 순서대로 id 부여한다. str(que[0])+'_'+str(i)로 지정하고 이를 키로 설정\n",
    "                ans[que[0]][str(que[0])+'_'+str(i)] = tuple(an) \n",
    "   \n",
    "        except Exception as e:\n",
    "            print(\"Exception occurs in get_QA\",link,e)\n",
    "            continue\n",
    "\n",
    "    "
   ]
  },
  {
   "cell_type": "code",
   "execution_count": 4,
   "metadata": {},
   "outputs": [],
   "source": [
    "# 약 127500 건의 게시글을 가져온다\n",
    "if __name__==\"__main__\":\n",
    "    seed=\"https://okky.kr\"\n",
    "    params = {\n",
    "        \"max\":\"100\", # 100개 게시글 한번에 조회\n",
    "        \"sort\":\"id\", \n",
    "        \"order\":\"asc\",\n",
    "        \"offset\":\"0\"\n",
    "    }\n",
    "    headers = {\n",
    "        \"User-agent\":\"Mozilla/5.0 (Windows NT 10.0; Win64; x64) AppleWebKit/537.36 (KHTML, like Gecko) Chrome/67.0.3396.99 Safari/537.36\",\n",
    "    }\n",
    "    \n",
    "    # \n",
    "    ques = {} # 데이터 저장 딕셔너리 ques = {que_id:(user_id, time_stamp, (tags), views, vote_count, title, content, code)}\n",
    "    ans = {} # 데이터 저장 딕셔너리 ans = {que_id: {an_id:(user_id, time_stamp, vote_count, content)} }\n",
    "    \n",
    "    for offset in tqdm(range(0,127500,100)):\n",
    "        try:\n",
    "            params['offset'] = str(offset) \n",
    "            resp = requests.get(seed+\"/articles/tech-qna\",params=params, headers=headers)\n",
    "            \n",
    "            links = get_links(resp)\n",
    "            \n",
    "            get_QA(links)\n",
    "            \n",
    "            \n",
    "        except Exception as e:\n",
    "            print(\"Exception occurs in main\",e)\n",
    "            continue\n",
    "        \n",
    "        finally:\n",
    "            with open('questions.dic','wb') as fp: # 질문 데이터를 dict 형태로 저장\n",
    "                pickle.dump(ques,fp)\n",
    "            with open('answers.dic','wb') as fp: # 답글 데이터를 dict 형태로 저장\n",
    "                pickle.dump(ans,fp)"
   ]
  },
  {
   "cell_type": "code",
   "execution_count": 5,
   "metadata": {},
   "outputs": [],
   "source": [
    "with open('questions.dic','rb') as fp:\n",
    "    questions = pickle.load(fp)"
   ]
  },
  {
   "cell_type": "code",
   "execution_count": 6,
   "metadata": {},
   "outputs": [
    {
     "data": {
      "text/plain": [
       "('dokdo_---',\n",
       " '2018-10-07 00:16:03',\n",
       " (),\n",
       " ' 3',\n",
       " '0',\n",
       " '프로그래머는 자격증이 필수인가요??',\n",
       " ('안드로이드 개발자 생각하고 있고 자격증은 필수인가요??', '앱 여러개 만들어보는게 제 스펙에 더 도움될거 같은데..'),\n",
       " ())"
      ]
     },
     "execution_count": 6,
     "metadata": {},
     "output_type": "execute_result"
    }
   ],
   "source": [
    "questions['#508581'] # #508581 key로 value 값인 튜플 조회"
   ]
  },
  {
   "cell_type": "code",
   "execution_count": 3,
   "metadata": {},
   "outputs": [],
   "source": [
    "with open('answers.dic','rb') as fp:\n",
    "    answers = pickle.load(fp) "
   ]
  },
  {
   "cell_type": "code",
   "execution_count": 7,
   "metadata": {},
   "outputs": [
    {
     "data": {
      "text/plain": [
       "{'#508581_0': ('협군',\n",
       "  '2018-10-07 01:01:07',\n",
       "  '2',\n",
       "  '정처기말고는 필요한 자격증이 없는데요.차라리 외국어 능력을 갖추세요.'),\n",
       " '#508581_1': ('에스에이치', '2018-10-07 01:29:47', '0', '수동보통1종뿐입니다만'),\n",
       " '#508581_2': ('code-01', '2018-10-07 11:45:19', '0', '필수 아닙니다.')}"
      ]
     },
     "execution_count": 7,
     "metadata": {},
     "output_type": "execute_result"
    }
   ],
   "source": [
    "answers['#508581'] # 댓글접근, 이중dict으로 되어있으며 게시글 id에 인덱스를 붙여 댓글 id를 형성하였다"
   ]
  },
  {
   "cell_type": "code",
   "execution_count": null,
   "metadata": {},
   "outputs": [],
   "source": []
  }
 ],
 "metadata": {
  "kernelspec": {
   "display_name": "Python 3",
   "language": "python",
   "name": "python3"
  },
  "language_info": {
   "codemirror_mode": {
    "name": "ipython",
    "version": 3
   },
   "file_extension": ".py",
   "mimetype": "text/x-python",
   "name": "python",
   "nbconvert_exporter": "python",
   "pygments_lexer": "ipython3",
   "version": "3.6.4"
  }
 },
 "nbformat": 4,
 "nbformat_minor": 2
}
