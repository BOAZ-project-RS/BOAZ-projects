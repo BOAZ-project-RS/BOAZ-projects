{
 "cells": [
  {
   "cell_type": "code",
   "execution_count": 1,
   "metadata": {},
   "outputs": [],
   "source": [
    "import pickle\n",
    "from tqdm import tqdm\n",
    "from collections import Counter"
   ]
  },
  {
   "cell_type": "markdown",
   "metadata": {},
   "source": [
    "우선 미리 저장된 질문과 답글 데이터를 로드한다"
   ]
  },
  {
   "cell_type": "code",
   "execution_count": 2,
   "metadata": {},
   "outputs": [],
   "source": [
    "with open('questions.dic','rb') as fp:\n",
    "    questions = pickle.load(fp)\n",
    "with open('answers.dic','rb') as fp:\n",
    "    answers = pickle.load(fp)"
   ]
  },
  {
   "cell_type": "code",
   "execution_count": 4,
   "metadata": {},
   "outputs": [
    {
     "data": {
      "text/plain": [
       "125455"
      ]
     },
     "execution_count": 4,
     "metadata": {},
     "output_type": "execute_result"
    }
   ],
   "source": [
    "len(questions.values()) #125455개 게시글"
   ]
  },
  {
   "cell_type": "code",
   "execution_count": 5,
   "metadata": {},
   "outputs": [
    {
     "data": {
      "text/plain": [
       "('초급개발자(안드)',\n",
       " '2018-10-08 09:15:10',\n",
       " ('안드로이드', '디버깅', 'adb'),\n",
       " ' 0',\n",
       " '0',\n",
       " 'adb 관련하여 질문있습니다.',\n",
       " ('안녕하세요 안드로이드 장비 디버깅관련하여 질문있어 글쓰게되었습니다.',\n",
       "  '',\n",
       "  '현재 휴대폰이아닌 안드로이드 장비를 원격으로 디버깅하고싶은데....',\n",
       "  '',\n",
       "  '서버에 프로젝트 파일이 있습니다..서버는 우분투 쓰고있고요.',\n",
       "  '',\n",
       "  '로컬환경은 윈도우10사용하고있고 장비는 로컬에 붙어있습니다.',\n",
       "  '',\n",
       "  'putty프로그램을 이용하여 서버에 접속해서 사용하고있는데...',\n",
       "  '',\n",
       "  'putty로 연결해서 로컬장비 바로 디버깅이 가능할까요...?',\n",
       "  '',\n",
       "  '잘몰라서 글이 이상하네요....',\n",
       "  '',\n",
       "  ''),\n",
       " ())"
      ]
     },
     "execution_count": 5,
     "metadata": {},
     "output_type": "execute_result"
    }
   ],
   "source": [
    "list(questions.values())[-1] # questions dict의 value 형태"
   ]
  },
  {
   "cell_type": "code",
   "execution_count": 6,
   "metadata": {},
   "outputs": [
    {
     "data": {
      "text/plain": [
       "('db', ' 데이터베이스')"
      ]
     },
     "execution_count": 6,
     "metadata": {},
     "output_type": "execute_result"
    }
   ],
   "source": [
    "questions['#534'][2] # 밸류값의 인덱스 2에는 게시글 태그를 저장"
   ]
  },
  {
   "cell_type": "code",
   "execution_count": 7,
   "metadata": {},
   "outputs": [
    {
     "data": {
      "text/plain": [
       "()"
      ]
     },
     "execution_count": 7,
     "metadata": {},
     "output_type": "execute_result"
    }
   ],
   "source": [
    "questions['#508441'][2] # 그러나 이처럼 태그 안달린 경우 많음"
   ]
  },
  {
   "cell_type": "code",
   "execution_count": 3,
   "metadata": {},
   "outputs": [],
   "source": [
    "key_no_tag = []\n",
    "for k,v in questions.items():\n",
    "    if questions[k][2] == ():\n",
    "        key_no_tag.append(k)\n",
    "    "
   ]
  },
  {
   "cell_type": "code",
   "execution_count": 4,
   "metadata": {},
   "outputs": [
    {
     "data": {
      "text/plain": [
       "32194"
      ]
     },
     "execution_count": 4,
     "metadata": {},
     "output_type": "execute_result"
    }
   ],
   "source": [
    "len(key_no_tag) # 32194 게시글 -> tagging 필요(첫번째 task)"
   ]
  },
  {
   "cell_type": "code",
   "execution_count": null,
   "metadata": {},
   "outputs": [],
   "source": []
  },
  {
   "cell_type": "code",
   "execution_count": null,
   "metadata": {},
   "outputs": [],
   "source": []
  },
  {
   "cell_type": "code",
   "execution_count": 5,
   "metadata": {},
   "outputs": [],
   "source": [
    "tag_lst = [] # 태그정보 확인 위해 리스트에 저장\n",
    "for val in questions.values():\n",
    "    for tag in val[2]:\n",
    "        tag_lst.append(tag)"
   ]
  },
  {
   "cell_type": "code",
   "execution_count": 6,
   "metadata": {},
   "outputs": [],
   "source": [
    "tag_count = Counter(tag_lst) # collections의 Counter "
   ]
  },
  {
   "cell_type": "code",
   "execution_count": 7,
   "metadata": {},
   "outputs": [
    {
     "data": {
      "text/plain": [
       "9791"
      ]
     },
     "execution_count": 7,
     "metadata": {},
     "output_type": "execute_result"
    }
   ],
   "source": [
    "len(tag_count.keys()) # 9791개의 태그"
   ]
  },
  {
   "cell_type": "code",
   "execution_count": 8,
   "metadata": {},
   "outputs": [
    {
     "data": {
      "text/plain": [
       "[('java', 62916),\n",
       " (' jsp', 61688),\n",
       " ('db', 5565),\n",
       " (' 데이터베이스', 5403),\n",
       " ('개발툴', 4731),\n",
       " ('ajax', 2673),\n",
       " ('spring', 1718),\n",
       " ('j2ee', 1211),\n",
       " ('jsp', 880),\n",
       " ('javascript', 769)]"
      ]
     },
     "execution_count": 8,
     "metadata": {},
     "output_type": "execute_result"
    }
   ],
   "source": [
    "tag_count.most_common(10)"
   ]
  },
  {
   "cell_type": "code",
   "execution_count": 9,
   "metadata": {},
   "outputs": [
    {
     "data": {
      "text/plain": [
       "[('java', 62916),\n",
       " (' jsp', 61688),\n",
       " ('db', 5565),\n",
       " (' 데이터베이스', 5403),\n",
       " ('개발툴', 4731),\n",
       " ('ajax', 2673),\n",
       " ('spring', 1718),\n",
       " ('j2ee', 1211),\n",
       " ('jsp', 880),\n",
       " ('javascript', 769),\n",
       " (' 스프링', 661),\n",
       " ('Spring', 549),\n",
       " ('android', 534),\n",
       " ('mysql', 523),\n",
       " ('안드로이드', 478),\n",
       " ('JSP', 464),\n",
       " ('Error', 455),\n",
       " ('html', 439),\n",
       " ('자바', 412),\n",
       " ('Java', 393),\n",
       " ('전자정부표준프레임워크', 377),\n",
       " (' egov', 374),\n",
       " ('jquery', 374),\n",
       " ('html5', 367),\n",
       " ('xml', 357),\n",
       " ('스프링', 343),\n",
       " ('mybatis', 259),\n",
       " ('Database', 255),\n",
       " ('자바스크립트', 232),\n",
       " ('JavaScript', 218),\n",
       " ('php', 216),\n",
       " ('oracle', 209),\n",
       " ('sql', 198),\n",
       " ('tomcat', 192),\n",
       " ('Tomcat', 191),\n",
       " ('css', 184),\n",
       " ('DB', 174),\n",
       " ('이클립스', 174),\n",
       " ('오라클', 168),\n",
       " ('Oracle', 166),\n",
       " ('json', 162),\n",
       " ('jQuery', 157),\n",
       " ('node.js', 157),\n",
       " ('Server', 156),\n",
       " ('Web', 151),\n",
       " ('JAVA', 150),\n",
       " ('MySQL', 135),\n",
       " ('Query', 129),\n",
       " ('HTML', 127),\n",
       " ('Eclipse', 126),\n",
       " ('전자정부프레임워크', 125),\n",
       " ('Android', 124),\n",
       " ('톰캣', 117),\n",
       " ('리눅스', 115),\n",
       " ('SQL', 115),\n",
       " ('eclipse', 111),\n",
       " ('web', 110),\n",
       " ('nodejs', 109),\n",
       " ('서버', 108),\n",
       " ('js', 100),\n",
       " ('maven', 100)]"
      ]
     },
     "execution_count": 9,
     "metadata": {},
     "output_type": "execute_result"
    }
   ],
   "source": [
    "list(filter(lambda tpl:tpl[1]>99,tag_count.most_common(100))) # 100count 이상 태그들"
   ]
  },
  {
   "cell_type": "markdown",
   "metadata": {},
   "source": [
    "전처리 해보자"
   ]
  },
  {
   "cell_type": "code",
   "execution_count": 10,
   "metadata": {},
   "outputs": [],
   "source": [
    "el_lst = list(tag_count.elements()) # 정렬된 elements를 count만큼 반복한 리스트\n",
    "el_lst = list(map(lambda el:el.strip().lower(),el_lst)) # strip하고 소문자로"
   ]
  },
  {
   "cell_type": "code",
   "execution_count": 11,
   "metadata": {},
   "outputs": [],
   "source": [
    "tag_count = Counter(el_lst)"
   ]
  },
  {
   "cell_type": "code",
   "execution_count": 12,
   "metadata": {},
   "outputs": [
    {
     "data": {
      "text/plain": [
       "8411"
      ]
     },
     "execution_count": 12,
     "metadata": {},
     "output_type": "execute_result"
    }
   ],
   "source": [
    "len(tag_count) # 태그수 8411로 감소"
   ]
  },
  {
   "cell_type": "code",
   "execution_count": 13,
   "metadata": {},
   "outputs": [],
   "source": [
    "key_to_remove = [] # count가 1 뿐인 태그는 제거하자\n",
    "for k,v in tag_count.items():\n",
    "    if v ==1:\n",
    "        key_to_remove.append(k)"
   ]
  },
  {
   "cell_type": "code",
   "execution_count": 14,
   "metadata": {},
   "outputs": [
    {
     "data": {
      "text/plain": [
       "['........',\n",
       " '로딩바',\n",
       " '리뉴얼축하합니다',\n",
       " 'proguard',\n",
       " 'dexguard',\n",
       " 'spring구성',\n",
       " 'info',\n",
       " 'jlevel',\n",
       " 'dday',\n",
       " '아이폰어플']"
      ]
     },
     "execution_count": 14,
     "metadata": {},
     "output_type": "execute_result"
    }
   ],
   "source": [
    "key_to_remove[:10]"
   ]
  },
  {
   "cell_type": "code",
   "execution_count": 15,
   "metadata": {},
   "outputs": [],
   "source": [
    "for k in key_to_remove:\n",
    "    del tag_count[k]"
   ]
  },
  {
   "cell_type": "code",
   "execution_count": 16,
   "metadata": {},
   "outputs": [
    {
     "data": {
      "text/plain": [
       "2809"
      ]
     },
     "execution_count": 16,
     "metadata": {},
     "output_type": "execute_result"
    }
   ],
   "source": [
    "len(tag_count) # 태그수 2809로 감소"
   ]
  },
  {
   "cell_type": "code",
   "execution_count": null,
   "metadata": {},
   "outputs": [],
   "source": []
  },
  {
   "cell_type": "code",
   "execution_count": 17,
   "metadata": {},
   "outputs": [
    {
     "data": {
      "text/plain": [
       "[('java', 63460),\n",
       " ('jsp', 63040),\n",
       " ('db', 5741),\n",
       " ('데이터베이스', 5473),\n",
       " ('개발툴', 4731),\n",
       " ('ajax', 2778),\n",
       " ('spring', 2281),\n",
       " ('j2ee', 1211),\n",
       " ('javascript', 1043),\n",
       " ('스프링', 1004),\n",
       " ('mysql', 738),\n",
       " ('android', 661),\n",
       " ('html', 576),\n",
       " ('error', 556),\n",
       " ('jquery', 554),\n",
       " ('안드로이드', 478),\n",
       " ('egov', 419),\n",
       " ('xml', 415),\n",
       " ('자바', 412),\n",
       " ('oracle', 391)]"
      ]
     },
     "execution_count": 17,
     "metadata": {},
     "output_type": "execute_result"
    }
   ],
   "source": [
    "tag_cnt_lst = sorted(list(tag_count.items()),key=lambda kv:kv[1],reverse=True) # count순으로 정렬해 리스트로\n",
    "tag_cnt_lst[:20]"
   ]
  },
  {
   "cell_type": "code",
   "execution_count": null,
   "metadata": {},
   "outputs": [],
   "source": [
    "# |java, 자바| 같은 전처리 필요"
   ]
  },
  {
   "cell_type": "code",
   "execution_count": null,
   "metadata": {},
   "outputs": [],
   "source": []
  },
  {
   "cell_type": "markdown",
   "metadata": {},
   "source": [
    "### CNN으로 분류\n",
    "- 태그의 종류, 개수\n",
    "    - 한 게시글 태그 여러개인 경우는 어떻게?\n",
    "- 워드임베딩 어떻게?\n",
    "    - w2v,  glove, fasttext\n",
    "    - pretrained? or 직접학습(나무위키 등)\n",
    "    - 학습안된 단어 초기화 어떻게?\n",
    "    - 워드임베딩의 영향 크지않다?\n",
    "- 멀티채널구성: static과 non static 어떻게?\n",
    "- 필터사이즈와 같은 CNN 아키텍쳐\n"
   ]
  },
  {
   "cell_type": "markdown",
   "metadata": {},
   "source": [
    "### Rec System\n",
    "- 시스템의 타겟 사용자 특정 필요\n",
    "- 시스템의 intput, output 구체화\n",
    "    - input: 사용자 질문 이력 세부적으로 질문제목, 내용, 태그, 날짜/ 그밖에 가능한 input?\n",
    "    - output: 새로운 질문 or 질문에 대한 답변\n",
    "- 적용 가능한 추천 알고리즘 추리기\n",
    "    - 유튜브rec, wideNdeep, matrix 기반 알고리즘 등 research 필요"
   ]
  },
  {
   "cell_type": "code",
   "execution_count": null,
   "metadata": {},
   "outputs": [],
   "source": []
  }
 ],
 "metadata": {
  "kernelspec": {
   "display_name": "Python 3",
   "language": "python",
   "name": "python3"
  },
  "language_info": {
   "codemirror_mode": {
    "name": "ipython",
    "version": 3
   },
   "file_extension": ".py",
   "mimetype": "text/x-python",
   "name": "python",
   "nbconvert_exporter": "python",
   "pygments_lexer": "ipython3",
   "version": "3.6.4"
  }
 },
 "nbformat": 4,
 "nbformat_minor": 2
}
